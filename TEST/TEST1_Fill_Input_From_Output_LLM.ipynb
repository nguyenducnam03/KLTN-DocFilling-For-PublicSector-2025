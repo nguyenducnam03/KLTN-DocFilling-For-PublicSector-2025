{
 "cells": [
  {
   "cell_type": "code",
   "execution_count": 1,
   "id": "bbfd67af-ae53-423a-ae7e-77066d5bb96e",
   "metadata": {},
   "outputs": [],
   "source": [
    "import os\n",
    "import re"
   ]
  },
  {
   "cell_type": "markdown",
   "id": "cc2b2753-0e8a-4b53-87d0-ee541b37388a",
   "metadata": {},
   "source": [
    "## Folder"
   ]
  },
  {
   "cell_type": "code",
   "execution_count": 2,
   "id": "938f646c-cc63-4259-a735-35bff91e211f",
   "metadata": {},
   "outputs": [
    {
     "name": "stdout",
     "output_type": "stream",
     "text": [
      "49_00_TK1-TS.txt\n",
      "49_01_TK1-TS.txt\n"
     ]
    }
   ],
   "source": [
    "Data_Input_Folder = \"../Forms/Data_Testing/Input\"\n",
    "Data_Label_Folder = \"../Forms/Data_Testing/Label_Output\"\n",
    "\n",
    "# Function to read file contents\n",
    "def read_file(file_path):\n",
    "    try:\n",
    "        with open(file_path, 'r',encoding='utf-8') as file:\n",
    "            return file.read()\n",
    "    except FileNotFoundError:\n",
    "        print(f\"The file {file_path} does not exist.\")\n",
    "        return None\n",
    "for index,filename in enumerate(os.listdir(Data_Label_Folder)[107:109]):\n",
    "    print(filename)"
   ]
  },
  {
   "cell_type": "code",
   "execution_count": 3,
   "id": "f1ed14bb-1ce3-4a56-aff1-d38998fa51e1",
   "metadata": {},
   "outputs": [],
   "source": [
    "input_form = read_file(Data_Input_Folder+'/'+os.listdir(Data_Input_Folder)[64]).replace('..........','[#another]')\n",
    "label_form = read_file(Data_Label_Folder+'/'+os.listdir(Data_Label_Folder)[64]).replace('..........','[#another]')"
   ]
  },
  {
   "cell_type": "code",
   "execution_count": 4,
   "id": "d54aeed5-e527-4f67-bbb5-f0b7193beb5f",
   "metadata": {},
   "outputs": [],
   "source": [
    "# print(input_form)"
   ]
  },
  {
   "cell_type": "code",
   "execution_count": 5,
   "id": "026ce9c3-7905-45cc-a5c2-4b49528ce190",
   "metadata": {},
   "outputs": [],
   "source": [
    "# print(label_form)"
   ]
  },
  {
   "cell_type": "markdown",
   "id": "d5b55024-387a-4224-a3f2-780f184a36f5",
   "metadata": {},
   "source": [
    "## Re"
   ]
  },
  {
   "cell_type": "code",
   "execution_count": 6,
   "id": "bd3e6808-b14b-4842-91cd-fcd064071bba",
   "metadata": {},
   "outputs": [],
   "source": [
    "input_form = \"\"\"\n",
    "CỘNG HÒA XÃ HỘI CHỦ NGHĨA VIỆT NAM\n",
    "Độc lập - Tự do - Hạnh phúc\n",
    "---------------\n",
    "GIẤY ĐỀ NGHỊ XÁC NHẬN SỐ CHỨNG MINH NHÂN DÂN\n",
    "\n",
    "Kính gửi(1):..........\n",
    "1. Họ, chữ đệm và tên(2): ..........\n",
    "2. Họ, chữ đệm và tên gọi khác (nếu có)(2): ..........\n",
    "3. Ngày, tháng, năm sinh: ........../........../.......... ; 4. Giới tính (Nam/nữ): ..........\n",
    "5. Dân tộc:.......... 6. Quốc tịch:..........\n",
    "7. Nơi đăng ký khai sinh: ..........\n",
    "8. Quê quán: ..........\n",
    "9. Nơi thường trú: ..........\n",
    "10. Số CCCD đã được cấp (3):.......... tại:\n",
    "11. Số CMND đã được đã được cấp (4):.......... \n",
    "Đề nghị (1):.......... xác nhận số Chứng minh nhân dân và số thẻ Căn cước cước công dân cho tôi. Tôi xin cam đoan những thông tin kê khai trên là đúng sự thật.\n",
    "    .........., ngày ..........tháng..........năm..........\n",
    "\"\"\".replace(\"..........\",'[#another]')\n",
    "\n",
    "label_form = \"\"\"\n",
    "CỘNG HÒA XÃ HỘI CHỦ NGHĨA VIỆT NAM\n",
    "Độc lập - Tự do - Hạnh phúc\n",
    "---------------\n",
    "GIẤY ĐỀ NGHỊ XÁC NHẬN SỐ CHỨNG MINH NHÂN DÂN\n",
    "\n",
    "Kính gửi(1): [receiver]\n",
    "1. Họ, chữ đệm và tên(2): [user1_alias_name]\n",
    "2. Họ, chữ đệm và tên gọi khác (nếu có)(2): [user1_alias_name]\n",
    "3. Ngày, tháng, năm sinh: [user1_dob_day]/[user1_dob_month]/[user1_dob_year] ; 4. Giới tính (Nam/nữ): [user1_gender]\n",
    "5. Dân tộc: [user1_ethnicity] 6. Quốc tịch: [user1_nationality]\n",
    "7. Nơi đăng ký khai sinh: [user1_birth_registration_place_ward]\n",
    "8. Quê quán: [user1_hometown]\n",
    "9. Nơi thường trú: [user1_permanent_address]\n",
    "10. Số CCCD đã được cấp (3): [user1_id_number] tại [user1_id_issue_place]\n",
    "11. Số CMND đã được đã được cấp (4): [user1_id_number]\n",
    "Đề nghị (1):.......... xác nhận số Chứng minh nhân dân và số thẻ Căn cước cước công dân cho tôi. Tôi xin cam đoan những thông tin kê khai trên là đúng sự thật.\n",
    "    [place], ngày [day]tháng[month] năm[year]\n",
    "\"\"\".replace(\"..........\",'[#another]')"
   ]
  },
  {
   "cell_type": "code",
   "execution_count": 7,
   "id": "b6fe7f76-1345-49ea-adc6-0f68e19c3128",
   "metadata": {},
   "outputs": [
    {
     "name": "stdout",
     "output_type": "stream",
     "text": [
      "[['cộng', 'hòa', 'xã', 'hội', 'chủ', 'nghĩa', 'việt', 'nam', 'độc', 'lập', 'tự', 'do', 'hạnh', 'phúc', 'giấy', 'đề', 'nghị', 'xác', 'nhận', 'số', 'chứng', 'minh', 'nhân', 'dân', 'kính', 'gửi1'], ['1', 'họ', 'chữ', 'đệm', 'và', 'tên2'], ['2', 'họ', 'chữ', 'đệm', 'và', 'tên', 'gọi', 'khác', 'nếu', 'có2'], ['3', 'ngày', 'tháng', 'năm', 'sinh'], ['/'], ['/'], ['4', 'giới', 'tính', 'nam/nữ'], ['5', 'dân', 'tộc'], ['6', 'quốc', 'tịch'], ['7', 'nơi', 'đăng', 'ký', 'khai', 'sinh'], ['8', 'quê', 'quán'], ['9', 'nơi', 'thường', 'trú'], ['10', 'số', 'cccd', 'đã', 'được', 'cấp', '3'], ['tại', '11', 'số', 'cmnd', 'đã', 'được', 'đã', 'được', 'cấp', '4'], ['đề', 'nghị', '1'], ['xác', 'nhận', 'số', 'chứng', 'minh', 'nhân', 'dân', 'và', 'số', 'thẻ', 'căn', 'cước', 'cước', 'công', 'dân', 'cho', 'tôi', 'tôi', 'xin', 'cam', 'đoan', 'những', 'thông', 'tin', 'kê', 'khai', 'trên', 'là', 'đúng', 'sự', 'thật'], ['ngày'], ['tháng'], ['năm']]\n",
      "[['cộng', 'hòa', 'xã', 'hội', 'chủ', 'nghĩa', 'việt', 'nam', 'độc', 'lập', 'tự', 'do', 'hạnh', 'phúc', 'giấy', 'đề', 'nghị', 'xác', 'nhận', 'số', 'chứng', 'minh', 'nhân', 'dân', 'kính', 'gửi1'], ['1', 'họ', 'chữ', 'đệm', 'và', 'tên2'], ['2', 'họ', 'chữ', 'đệm', 'và', 'tên', 'gọi', 'khác', 'nếu', 'có2'], ['3', 'ngày', 'tháng', 'năm', 'sinh'], ['/'], ['/'], ['4', 'giới', 'tính', 'nam/nữ'], ['5', 'dân', 'tộc'], ['6', 'quốc', 'tịch'], ['7', 'nơi', 'đăng', 'ký', 'khai', 'sinh'], ['8', 'quê', 'quán'], ['9', 'nơi', 'thường', 'trú'], ['10', 'số', 'cccd', 'đã', 'được', 'cấp', '3'], ['tại'], ['11', 'số', 'cmnd', 'đã', 'được', 'đã', 'được', 'cấp', '4'], ['đề', 'nghị', '1'], ['xác', 'nhận', 'số', 'chứng', 'minh', 'nhân', 'dân', 'và', 'số', 'thẻ', 'căn', 'cước', 'cước', 'công', 'dân', 'cho', 'tôi', 'tôi', 'xin', 'cam', 'đoan', 'những', 'thông', 'tin', 'kê', 'khai', 'trên', 'là', 'đúng', 'sự', 'thật'], ['ngày'], ['tháng'], ['năm']]\n",
      "\n",
      "CỘNG HÒA XÃ HỘI CHỦ NGHĨA VIỆT NAM\n",
      "Độc lập - Tự do - Hạnh phúc\n",
      "---------------\n",
      "GIẤY ĐỀ NGHỊ XÁC NHẬN SỐ CHỨNG MINH NHÂN DÂN\n",
      "\n",
      "Kính gửi(1):[receiver]\n",
      "1. Họ, chữ đệm và tên(2): [user1_full_name]\n",
      "2. Họ, chữ đệm và tên gọi khác (nếu có)(2): [user1_alias_name]\n",
      "3. Ngày, tháng, năm sinh: [user1_dob_day]/[user1_dob_month]/[user1_dob_year] ; 4. Giới tính (Nam/nữ): [user1_gender]\n",
      "5. Dân tộc:[user1_ethnicity] 6. Quốc tịch:[user1_nationality]\n",
      "7. Nơi đăng ký khai sinh: [user1_birth_registration_place_ward]\n",
      "8. Quê quán: [user1_hometown]\n",
      "9. Nơi thường trú: [user1_permanent_address]\n",
      "10. Số CCCD đã được cấp (3):[user1_id_number] tại:\n",
      "11. Số CMND đã được đã được cấp (4):[user1_id_number] \n",
      "Đề nghị (1):[another] xác nhận số Chứng minh nhân dân và số thẻ Căn cước cước công dân cho tôi. Tôi xin cam đoan những thông tin kê khai trên là đúng sự thật.\n",
      "    [place], ngày [day]tháng[month]năm[year]\n",
      "\n"
     ]
    }
   ],
   "source": [
    "# Function to process a sentence\n",
    "def process_sentence(sentence):\n",
    "    '''\n",
    "    Function to remove all number, special character.\n",
    "    Just keep again words.\n",
    "    Input: sentence.\n",
    "    Output: sentence without number, special character.\n",
    "    '''\n",
    "    # Step 1: Convert to lowercase\n",
    "    sentence = sentence.lower()\n",
    "    # # Step 2: Remove all numbers\n",
    "    # sentence = re.sub(r'\\d+', '', sentence)\n",
    "    # Step 3: Keep only words and numbers (remove punctuation)\n",
    "    sentence = re.sub(r'[^\\w\\s\\/]', '', sentence)\n",
    "    # Step 4: Strip leading/trailing whitespace and split by spaces\n",
    "    words = sentence.strip().split()\n",
    "    return words\n",
    "\n",
    "def extract_form(words,pattern,match_index=0):\n",
    "    '''\n",
    "    Function to extract form by pattern re, and with match_index is index of result.\n",
    "    Input: words, re partern, match_index to return.\n",
    "    Output: apply pattern, take matches[match_index]\n",
    "    '''\n",
    "    # Find all matches\n",
    "    matches = pattern.findall(words)\n",
    "    # Collecting the sentences\n",
    "    sentences = []\n",
    "    for match in matches:\n",
    "        sentence = match[match_index].strip()  # Get the text before \"..........\"\n",
    "        sentences.append(process_sentence(sentence))\n",
    "    return sentences\n",
    "\n",
    "def calculate_similarity_two_lists(list1, list2):\n",
    "    '''\n",
    "    Function to calculate similarity 2 list.\n",
    "    EX:['tờ', 'khai', 'căn', 'cước', 'công', 'dân', 'họ', 'chữ', 'đệm', 'và', 'tên']\n",
    "    ['họ', 'chữ', 'đệm', 'và', 'tên', 'gọi', 'khác', 'nếu', 'có']\n",
    "    GPT recommend new metrics: jaccard similarity.\n",
    "    '''\n",
    "    if len(list1) == len(list2) == 0:\n",
    "        return {\n",
    "        'exact_match_percentage': 100.0,\n",
    "        'jaccard_similarity': 100.0\n",
    "    }\n",
    "    # Exact matching\n",
    "    exact_match_count = sum(1 for a, b in zip(list1, list2) if a == b)\n",
    "    exact_match_percentage = exact_match_count / max(len(list1), len(list2)) * 100\n",
    "    \n",
    "    # Jaccard similarity\n",
    "    set1, set2 = set(list1), set(list2)\n",
    "    jaccard_similarity = len(set1.intersection(set2)) / len(set1.union(set2)) * 100\n",
    "    \n",
    "    return {\n",
    "        'exact_match_percentage': exact_match_percentage,\n",
    "        'jaccard_similarity': jaccard_similarity\n",
    "    }\n",
    "\n",
    "def fill_tagname_to_form(form, list_tag_name):\n",
    "    '''\n",
    "    Function fill list_tagname to form (here is input form, with all #another).\n",
    "    Ensure that list_tag_name len is same with len of #another\n",
    "    Parameters:\n",
    "    form (str): The input form with #another placeholders.\n",
    "    list_tag_name (list of lists): The list of tagnames to fill in.\n",
    "    \n",
    "    Returns:\n",
    "    str: The form with tagnames filled in.\n",
    "    '''\n",
    "    # Ensure the length matches the number of placeholders\n",
    "    num_placeholders = form.count('[#another]')\n",
    "    if len(list_tag_name) != num_placeholders:\n",
    "        raise ValueError(f\"Mismatch: Found {num_placeholders} placeholders, but {len(list_tag_name)} tagnames were provided.\")\n",
    "    \n",
    "    # Replace each occurrence of [#another] with the corresponding tagname\n",
    "    for tag in list_tag_name:\n",
    "        form = form.replace('[#another]', f'[{tag[0]}]', 1)\n",
    "    \n",
    "    return form\n",
    "\n",
    "def fill_label_to_input_form(input_form, label_form):\n",
    "    '''\n",
    "    Function to fill from label form to input form (fill tagname into).\n",
    "    Input: input form with all ......., label form with [#tagname] is placed.\n",
    "    '''\n",
    "    pattern = re.compile(r'(.*?)(\\[[^\\d].+?\\])', re.DOTALL)\n",
    "    # Find all matches input\n",
    "    input_sentences = extract_form(input_form,pattern)\n",
    "    # Find all matches label\n",
    "    label_sentences = extract_form(label_form,pattern)\n",
    "    label_tagnames = extract_form(label_form,pattern,match_index=1)\n",
    "\n",
    "    ## Print testing \n",
    "    print(input_sentences)\n",
    "    print(label_sentences)\n",
    "    #Filling\n",
    "    index_label = 0\n",
    "    tagname_to_fills = []\n",
    "    for input_sentence in input_sentences:\n",
    "        while True:\n",
    "            try:\n",
    "                jaccard_similarity = calculate_similarity_two_lists(input_sentence,label_sentences[index_label])['jaccard_similarity']\n",
    "            except:\n",
    "                print(\"wrong something\")\n",
    "                return \"wrong something\"\n",
    "            if jaccard_similarity > 50.0:\n",
    "                tagname_to_fills.append(label_tagnames[index_label])\n",
    "                index_label +=1\n",
    "                break\n",
    "            else:\n",
    "                index_label += 1\n",
    "    return fill_tagname_to_form(input_form, tagname_to_fills)\n",
    "\n",
    "print(fill_label_to_input_form(input_form, label_form))"
   ]
  },
  {
   "cell_type": "code",
   "execution_count": null,
   "id": "f7883665-4f46-4f9a-b64c-023968908897",
   "metadata": {},
   "outputs": [],
   "source": []
  },
  {
   "cell_type": "code",
   "execution_count": null,
   "id": "56c33337-9382-4256-b8a9-693ca41933a3",
   "metadata": {},
   "outputs": [],
   "source": []
  }
 ],
 "metadata": {
  "kernelspec": {
   "display_name": "Python 3 (ipykernel)",
   "language": "python",
   "name": "python3"
  },
  "language_info": {
   "codemirror_mode": {
    "name": "ipython",
    "version": 3
   },
   "file_extension": ".py",
   "mimetype": "text/x-python",
   "name": "python",
   "nbconvert_exporter": "python",
   "pygments_lexer": "ipython3",
   "version": "3.10.5"
  }
 },
 "nbformat": 4,
 "nbformat_minor": 5
}

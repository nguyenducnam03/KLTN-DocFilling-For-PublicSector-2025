{
 "cells": [
  {
   "cell_type": "markdown",
   "id": "cc2b2753-0e8a-4b53-87d0-ee541b37388a",
   "metadata": {},
   "source": [
    "## Folder"
   ]
  },
  {
   "cell_type": "code",
   "execution_count": 10,
   "id": "938f646c-cc63-4259-a735-35bff91e211f",
   "metadata": {},
   "outputs": [
    {
     "name": "stdout",
     "output_type": "stream",
     "text": [
      "00_00_bao_cao_tot_nghiep_du_hoc_sinh.txt\n"
     ]
    }
   ],
   "source": [
    "import os\n",
    "Data_Label_Folder = \"../Forms/Label_Output\"\n",
    "for index,filename in enumerate(os.listdir(Data_Label_Folder)[:1]):\n",
    "    print(filename)"
   ]
  },
  {
   "cell_type": "code",
   "execution_count": 11,
   "id": "961bd250-1f9e-43ff-a3d8-3082b49f8004",
   "metadata": {},
   "outputs": [
    {
     "name": "stdout",
     "output_type": "stream",
     "text": [
      "00_00_bao_cao_tot_nghiep_du_hoc_sinh.txt\n"
     ]
    }
   ],
   "source": [
    "# input\n",
    "import os\n",
    "Data_Input_Folder = \"../Forms/Data_Testing/Input\"\n",
    "for index,filename in enumerate(os.listdir(Data_Input_Folder)[:1]):\n",
    "    print(filename)"
   ]
  },
  {
   "cell_type": "markdown",
   "id": "d5b55024-387a-4224-a3f2-780f184a36f5",
   "metadata": {},
   "source": [
    "## Re"
   ]
  },
  {
   "cell_type": "code",
   "execution_count": 15,
   "id": "b2e4fdc9-f280-46ac-921a-c50465e3c27b",
   "metadata": {},
   "outputs": [],
   "source": [
    "import re"
   ]
  },
  {
   "cell_type": "code",
   "execution_count": 48,
   "id": "5e261d27-84f8-4e5a-9b20-1e367a4f1d08",
   "metadata": {},
   "outputs": [],
   "source": [
    "cccd_input = \"\"\"\n",
    "\t\t\tTỜ KHAI CĂN CƯỚC CÔNG DÂN\n",
    "1. Họ, chữ đệm    và tên(1   : ..........\n",
    "2. Họ, chữ đệm và tên gọi khác (nếu có)(1): ..........\n",
    "3. Ngày, tháng, năm sinh:........../........../..........; 4. Giới tính (Nam/nữ): ..........\n",
    "5. Số CMND/CCCD: ..........\n",
    "6. Dân tộc: ..........; 7. Tôn giáo: .......... 8. Quốc tịch: ..........\n",
    "9. Tình trạng hôn nhân: .......... 10. Nhóm máu (nếu có): ..........\n",
    "11. Nơi đăng ký khai sinh: ..........\n",
    "12. Quê quán: ..........\n",
    "13. Nơi thường trú: ..........\n",
    "14. Nơi ở hiện tại: ..........\n",
    "15. Nghề nghiệp: .......... 16. Trình độ học vấn: ..........\n",
    "\"\"\".replace('..........','[#another]')\n",
    "\n",
    "cccd_llm1 = \"\"\"\n",
    "\t\t\tTỜ KHAI CĂN CƯỚC CÔNG DÂN\n",
    "1. Họ, chữ đệm và tên(1): [user1_full_name]\n",
    "2. Họ, chữ đệm và tên gọi khác (nếu có)(1): [user1_alias_name]\n",
    "3. Ngày, tháng, năm sinh:[user1_dob_day]/[user1_dob_month]/[user1_dob_year]; 4. Giới tính (Nam/nữ): [user1_gender]\n",
    "5. Số CMND/CCCD: [user1_id_number]\n",
    "6. Dân tộc: [user1_ethnicity]; 7. Tôn   giáo: [user1_religion] 8. Quốc tịch: [user1_nationality]\n",
    "9. Tình trạng hôn nhân: [user1_marital_status] 10. Nhóm máu (nếu có): [user1_blood_type]\n",
    "11. Nơi đăng ký khai sinh: [user1_birth_registration_place]\n",
    "12. Quê quán: [user1_hometown]\n",
    "13. Nơi thường trú: [user1_permanent_address]\n",
    "14. Nơi ở hiện tại: [user1_current_address]\n",
    "15. Nghề nghiệp: [user1_occupation] 16. Trình độ học vấn: ..........\n",
    "\"\"\".replace('..........','[#another]')"
   ]
  },
  {
   "cell_type": "code",
   "execution_count": 55,
   "id": "b6fe7f76-1345-49ea-adc6-0f68e19c3128",
   "metadata": {},
   "outputs": [],
   "source": [
    "# Function to process a sentence\n",
    "def process_sentence(sentence):\n",
    "    # Step 1: Convert to lowercase\n",
    "    sentence = sentence.lower()\n",
    "    # Step 2: Remove all numbers\n",
    "    sentence = re.sub(r'\\d+', '', sentence)\n",
    "    # Step 3: Keep only words and numbers (remove punctuation)\n",
    "    sentence = re.sub(r'[^\\w\\s]', '', sentence)\n",
    "    # Step 4: Strip leading/trailing whitespace and split by spaces\n",
    "    words = sentence.strip().split()\n",
    "    return words\n",
    "\n",
    "def extract_form(words,pattern):\n",
    "    # Find all matches\n",
    "    matches = pattern.findall(words)\n",
    "    # Collecting the sentences\n",
    "    sentences = []\n",
    "    for match in matches:\n",
    "        sentence = match[0].strip()  # Get the text before \"..........\"\n",
    "        sentences.append(process_sentence(sentence))\n",
    "    return sentences\n",
    "\n",
    "def calculate_similarity_two_lists(list1, list2):\n",
    "    # Exact matching\n",
    "    exact_match_count = sum(1 for a, b in zip(list1, list2) if a == b)\n",
    "    exact_match_percentage = exact_match_count / max(len(list1), len(list2)) * 100\n",
    "    \n",
    "    # Jaccard similarity\n",
    "    set1, set2 = set(list1), set(list2)\n",
    "    jaccard_similarity = len(set1.intersection(set2)) / len(set1.union(set2)) * 100\n",
    "    \n",
    "    return {\n",
    "        'exact_match_percentage': exact_match_percentage,\n",
    "        'jaccard_similarity': jaccard_similarity\n",
    "    }"
   ]
  },
  {
   "cell_type": "code",
   "execution_count": 56,
   "id": "ff8ac6fe-91f8-462c-a03a-746a81b4cecb",
   "metadata": {},
   "outputs": [
    {
     "data": {
      "text/plain": [
       "[['tờ', 'khai', 'căn', 'cước', 'công', 'dân', 'họ', 'chữ', 'đệm', 'và', 'tên'],\n",
       " ['họ', 'chữ', 'đệm', 'và', 'tên', 'gọi', 'khác', 'nếu', 'có'],\n",
       " ['ngày', 'tháng', 'năm', 'sinh'],\n",
       " [],\n",
       " [],\n",
       " ['giới', 'tính', 'namnữ'],\n",
       " ['số', 'cmndcccd'],\n",
       " ['dân', 'tộc'],\n",
       " ['tôn', 'giáo'],\n",
       " ['quốc', 'tịch'],\n",
       " ['tình', 'trạng', 'hôn', 'nhân'],\n",
       " ['nhóm', 'máu', 'nếu', 'có'],\n",
       " ['nơi', 'đăng', 'ký', 'khai', 'sinh'],\n",
       " ['quê', 'quán'],\n",
       " ['nơi', 'thường', 'trú'],\n",
       " ['nơi', 'ở', 'hiện', 'tại'],\n",
       " ['nghề', 'nghiệp'],\n",
       " ['trình', 'độ', 'học', 'vấn']]"
      ]
     },
     "execution_count": 56,
     "metadata": {},
     "output_type": "execute_result"
    }
   ],
   "source": [
    "# Regular expression to match text before \"..........\"\n",
    "pattern = re.compile(r'(.*?)(\\[.+?\\])', re.DOTALL)\n",
    "\n",
    "# sentences_cccd_input = extract_form(cccd_input,pattern)\n",
    "sentences_cccd_llm1 = extract_form(cccd_llm1,pattern)\n",
    "# Output the extracted sentences\n",
    "# index_llm = 0\n",
    "# for i, sentence_input in enumerate(sentences_cccd_input):\n",
    "#     jaccard_similarity = calculate_similarity_two_lists(sentence_input,sentences_cccd_llm1[index_llm])['jaccard_similarity']\n",
    "#     print(jaccard_similarity)\n",
    "#     if jaccard_similarity > 75.0:\n",
    "#         print('this two list is similar')\n",
    "#     else:\n",
    "#         index_llm += 1\n",
    "#     index_llm +=1 \n",
    "\n",
    "sentences_cccd_llm1"
   ]
  },
  {
   "cell_type": "code",
   "execution_count": 46,
   "id": "f753d654-87e2-44b2-a510-07bf2e04af4b",
   "metadata": {},
   "outputs": [
    {
     "data": {
      "text/plain": [
       "[['tờ', 'khai', 'căn', 'cước', 'công', 'dân', 'họ', 'chữ', 'đệm', 'và', 'tên'],\n",
       " ['họ', 'chữ', 'đệm', 'và', 'tên', 'gọi', 'khác', 'nếu', 'có'],\n",
       " ['ngày', 'tháng', 'năm', 'sinh'],\n",
       " ['số', 'cmndcccd'],\n",
       " ['dân', 'tộc'],\n",
       " ['quốc', 'tịch'],\n",
       " ['tình', 'trạng', 'hôn', 'nhân'],\n",
       " ['nhóm', 'máu', 'nếu', 'có'],\n",
       " ['tại'],\n",
       " ['quê', 'quán'],\n",
       " ['nơi', 'thường', 'trú'],\n",
       " ['nơi', 'ở', 'hiện', 'tại'],\n",
       " ['nghề', 'nghiệp'],\n",
       " ['trình', 'độ', 'học', 'vấn']]"
      ]
     },
     "execution_count": 46,
     "metadata": {},
     "output_type": "execute_result"
    }
   ],
   "source": [
    "sentences_cccd_llm1"
   ]
  }
 ],
 "metadata": {
  "kernelspec": {
   "display_name": "Python 3 (ipykernel)",
   "language": "python",
   "name": "python3"
  },
  "language_info": {
   "codemirror_mode": {
    "name": "ipython",
    "version": 3
   },
   "file_extension": ".py",
   "mimetype": "text/x-python",
   "name": "python",
   "nbconvert_exporter": "python",
   "pygments_lexer": "ipython3",
   "version": "3.10.5"
  }
 },
 "nbformat": 4,
 "nbformat_minor": 5
}

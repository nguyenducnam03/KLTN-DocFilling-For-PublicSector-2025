{
 "cells": [
  {
   "cell_type": "code",
   "execution_count": 1,
   "id": "3cce9105-eba7-4e44-9d30-0f6bb936ba65",
   "metadata": {},
   "outputs": [],
   "source": [
    "import re"
   ]
  },
  {
   "cell_type": "code",
   "execution_count": 6,
   "id": "b83734c9-0650-4e2f-a5da-21ce7a3f7e62",
   "metadata": {},
   "outputs": [
    {
     "name": "stdout",
     "output_type": "stream",
     "text": [
      "['user1_day', 'user1_month', 'user1_year']\n"
     ]
    }
   ],
   "source": [
    "import re\n",
    "\n",
    "def process_sentence(sentence):\n",
    "    '''\n",
    "    Function to split specific patterns \"/thang\", \"/tháng\", \"/nam\", \"/năm\"\n",
    "    and keep Vietnamese words intact.\n",
    "    Input: sentence.\n",
    "    Output: list of words with specific slashes separated.\n",
    "    '''\n",
    "    # Step 1: Convert to lowercase\n",
    "    sentence = sentence.lower()\n",
    "    \n",
    "    # Step 2: Add space around specific patterns like \"/thang\", \"/tháng\", \"/nam\", \"/năm\"\n",
    "    sentence = re.sub(r'\\/(thang|tháng|nam|năm)', r' / \\1', sentence)\n",
    "    \n",
    "    # Step 3: Strip leading/trailing whitespace and split by spaces\n",
    "    words = sentence.strip().split()\n",
    "    \n",
    "    return words\n"
   ]
  },
  {
   "cell_type": "code",
   "execution_count": null,
   "id": "b41f5ce4-b217-422d-8751-484cb2e2735e",
   "metadata": {},
   "outputs": [],
   "source": []
  }
 ],
 "metadata": {
  "kernelspec": {
   "display_name": "Python 3 (ipykernel)",
   "language": "python",
   "name": "python3"
  },
  "language_info": {
   "codemirror_mode": {
    "name": "ipython",
    "version": 3
   },
   "file_extension": ".py",
   "mimetype": "text/x-python",
   "name": "python",
   "nbconvert_exporter": "python",
   "pygments_lexer": "ipython3",
   "version": "3.10.5"
  }
 },
 "nbformat": 4,
 "nbformat_minor": 5
}
